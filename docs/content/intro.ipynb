{
 "cells": [
  {
   "cell_type": "markdown",
   "metadata": {},
   "source": [
    "# Metaflow\n",
    "\n",
    "<a href=\"https://metaflow.org/\"><img src=\"https://blog.desdelinux.net/wp-content/uploads/2019/12/Metaflow.png\" class=\"left\"></a>\n",
    "<div style=\"clear:both;\"></div>\n",
    "\n",
    "[Metaflow](https://blog.desdelinux.net/metaflow-el-framework-de-netflix-para-los-proyectos-de-aprendizaje-automatico/) es un framework de Netflix escrito en Python, diseñado para facilitar la ejecución de proyectos de aprendizaje automatico; destinada a ayudar a los especialistas en datos a implementar modelos de aprendizaje automático más rapidamente para la producción.\n",
    "\n",
    "Netflix ha empleado este framework internamente para crear y administrar cientos de proyectos de ciencias de datos desde el procesamiento del lenguaje natural hasta la investigación de operaciones.\n",
    "\n",
    "\n",
    "Here are a few features of Jupyter Books\n",
    "\n",
    "* A Command-Line Interface (CLI) to quickly create, build, and upgrade books.\n",
    "* Write book content in markdown and Jupyter Notebooks\n",
    "* Convert these into Jekyll pages that can be hosted for free on GitHub\n",
    "* Pages can have [Binder](https://mybinder.org), JupyterHub, or [Thebelab](https://thebelab.readthedocs.io) links\n",
    "  automatically added for interactivity.\n",
    "* The website itself is based on Jekyll and is highly extensible.\n",
    "* There are lots of nifty HTML features under-the-hood, such as\n",
    "  Turbolinks fast-navigation and click-to-copy in code cells.\n",
    "\n",
    "Check out other features in the [Features section](features/features)."
   ]
  },
  {
   "cell_type": "markdown",
   "metadata": {
    "tags": [
     "popout"
    ]
   },
   "source": [
    "**Note:** Throughout this guide you may see an experimental tag that looks\n",
    "like this:\n",
    "\n",
    "✨**experimental**✨\n",
    "\n",
    "These are features that we are playing around with, but might change in how they\n",
    "behave or are controlled. Please use them and give feedback, but note that they\n",
    "may be a bit unstable!"
   ]
  },
  {
   "cell_type": "markdown",
   "metadata": {},
   "source": [
    "## Getting started\n",
    "\n",
    "*This documentation is for the [master branch of Jupyter Book](https://github.com/jupyter/jupyter-book), which\n",
    "means that it might be slightly out-of-date with the\n",
    "[latest version released](https://pypi.org/project/jupyter-book/) on pip*.\n",
    "\n",
    "To get started, you may be interested in the following links.\n",
    "Here are a few links of interest:\n",
    "\n",
    "* **[Jupyter Book features](features/features)** is a quick demo and overview\n",
    "  of Jupyter Books.\n",
    "\n",
    "* **[The Jupyter Book Guide](guide/01_overview)**\n",
    "  will step you through the process of configuring and building your own Jupyter Book.\n",
    "\n",
    "### Installation\n",
    "\n",
    "To install the Jupyter Book command-line interface (CLI), use `pip`!\n",
    "\n",
    "```\n",
    "pip install jupyter-book\n",
    "```\n",
    "\n",
    "alternatively, if you'd like to install the latest version from GitHub,\n",
    "you can run:\n",
    "\n",
    "```\n",
    "pip install git+https://github.com/jupyter/jupyter-book\n",
    "```\n",
    "\n",
    "This will install the *master branch* of Jupyter Book (what these docs are\n",
    "built from), though it might be a bit less-stable.\n",
    "\n",
    "### Create a new book\n",
    "\n",
    "Once you've installed the CLI, create a new book using the demo book content\n",
    "(the website that you're viewing now) with this command:\n",
    "\n",
    "```\n",
    "jupyter-book create mybookname --demo\n",
    "```\n",
    "\n",
    "### Build the markdown for your book\n",
    "\n",
    "Now, build the markdown that Jekyll will use for your book. Run this command:\n",
    "\n",
    "```\n",
    "jupyter-book build mybookname\n",
    "```\n",
    "\n",
    "### That's it!\n",
    "\n",
    "You can now either push your book to GitHub and serve the demo with gh-pages,\n",
    "or modify the book with your own content.\n",
    "\n",
    "\n",
    "## Acknowledgements\n",
    "\n",
    "Jupyter Books was originally created by [Sam Lau][sam] and [Chris Holdgraf][chris]\n",
    "with support of the **UC Berkeley Data Science Education Program and the\n",
    "[Berkeley Institute for Data Science](https://bids.berkeley.edu/)**.\n",
    "\n",
    "[sam]: http://www.samlau.me/\n",
    "[chris]: https://predictablynoisy.com"
   ]
  },
  {
   "cell_type": "code",
   "execution_count": null,
   "metadata": {},
   "outputs": [],
   "source": []
  }
 ],
 "metadata": {
  "kernelspec": {
   "display_name": "Python 3",
   "language": "python",
   "name": "python3"
  },
  "language_info": {
   "codemirror_mode": {
    "name": "ipython",
    "version": 3
   },
   "file_extension": ".py",
   "mimetype": "text/x-python",
   "name": "python",
   "nbconvert_exporter": "python",
   "pygments_lexer": "ipython3",
   "version": "3.6.9"
  },
  "widgets": {
   "application/vnd.jupyter.widget-state+json": {
    "state": {},
    "version_major": 2,
    "version_minor": 0
   }
  }
 },
 "nbformat": 4,
 "nbformat_minor": 4
}
